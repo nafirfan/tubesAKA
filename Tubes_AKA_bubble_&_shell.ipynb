{
  "nbformat": 4,
  "nbformat_minor": 0,
  "metadata": {
    "colab": {
      "name": "Tubes AKA bubble & shell.ipynb",
      "provenance": [],
      "include_colab_link": true
    },
    "kernelspec": {
      "name": "python3",
      "display_name": "Python 3"
    },
    "language_info": {
      "name": "python"
    }
  },
  "cells": [
    {
      "cell_type": "markdown",
      "metadata": {
        "id": "view-in-github",
        "colab_type": "text"
      },
      "source": [
        "<a href=\"https://colab.research.google.com/github/nafirfan/tubesAKA/blob/main/Tubes_AKA_bubble_%26_shell.ipynb\" target=\"_parent\"><img src=\"https://colab.research.google.com/assets/colab-badge.svg\" alt=\"Open In Colab\"/></a>"
      ]
    },
    {
      "cell_type": "code",
      "execution_count": 1,
      "metadata": {
        "colab": {
          "base_uri": "https://localhost:8080/",
          "height": 382
        },
        "id": "y4Ea6I4BDSzl",
        "outputId": "400ea120-e578-4911-e1a9-fdf66a701b09"
      },
      "outputs": [
        {
          "output_type": "stream",
          "name": "stdout",
          "text": [
            "       Bubble Sort  Shell Sort\n",
            "10        0.000045    0.000036\n",
            "100       0.001038    0.000130\n",
            "1000      0.111193    0.003284\n",
            "10000    11.534327    0.028283\n"
          ]
        },
        {
          "output_type": "display_data",
          "data": {
            "image/png": "[encoded data removed]",
            "text/plain": [
              "<Figure size 432x288 with 1 Axes>"
            ]
          },
          "metadata": {
            "needs_background": "light"
          }
        }
      ],
      "source": [
        "import random\n",
        "import timeit\n",
        "import matplotlib.pyplot as plt\n",
        "import pandas as pd\n",
        "\n",
        "#https://www.programiz.com/dsa/shell-sort\n",
        "def shell_sort(array, n):\n",
        "    interval = n // 2\n",
        "    while interval > 0:\n",
        "        for i in range(interval, n):\n",
        "            temp = array[i]\n",
        "            j = i\n",
        "            while j >= interval and array[j - interval] > temp:\n",
        "                array[j] = array[j - interval]\n",
        "                j -= interval\n",
        "            array[j] = temp\n",
        "        interval //= 2\n",
        "\n",
        "\n",
        "#https://www.programiz.com/dsa/bubble-sort\n",
        "def bubbleSort(array, n):\n",
        "  for i in range(n):\n",
        "    for j in range(0, n - i - 1):\n",
        "      if array[j] > array[j + 1]:\n",
        "        temp = array[j]\n",
        "        array[j] = array[j+1]\n",
        "        array[j+1] = temp\n",
        " \n",
        "\n",
        "N = 10\n",
        "arr = list(range(1, N + 1))\n",
        "random.shuffle(arr)\n",
        "start = timeit.default_timer()\n",
        "bubbleSort(arr, N)\n",
        "stop = timeit.default_timer()\n",
        "execution_time = stop - start\n",
        "start1 = timeit.default_timer()\n",
        "shell_sort(arr, N)\n",
        "stop1 = timeit.default_timer()\n",
        "execution_time1 = stop1 - start1\n",
        "\n",
        "N = 100\n",
        "arr = list(range(1, N + 1))\n",
        "random.shuffle(arr)\n",
        "start = timeit.default_timer()\n",
        "bubbleSort(arr, N)\n",
        "stop = timeit.default_timer()\n",
        "execution_time2 = stop - start\n",
        "start1 = timeit.default_timer()\n",
        "shell_sort(arr, N)\n",
        "stop1 = timeit.default_timer()\n",
        "execution_time3 = stop1 - start1\n",
        "\n",
        "N = 1000\n",
        "arr = list(range(1, N + 1))\n",
        "random.shuffle(arr)\n",
        "start = timeit.default_timer()\n",
        "bubbleSort(arr, N)\n",
        "stop = timeit.default_timer()\n",
        "execution_time4 = stop - start\n",
        "start1 = timeit.default_timer()\n",
        "shell_sort(arr, N)\n",
        "stop1 = timeit.default_timer()\n",
        "execution_time5 = stop1 - start1\n",
        "\n",
        "N = 10000\n",
        "arr = list(range(1, N + 1))\n",
        "random.shuffle(arr)\n",
        "start = timeit.default_timer()\n",
        "bubbleSort(arr, N)\n",
        "stop = timeit.default_timer()\n",
        "execution_time6 = stop - start\n",
        "start1 = timeit.default_timer()\n",
        "shell_sort(arr, N)\n",
        "stop1 = timeit.default_timer()\n",
        "execution_time7 = stop1 - start1\n",
        "\n",
        "#N = 100000\n",
        "#arr = list(range(1, N + 1))\n",
        "#random.shuffle(arr)\n",
        "#start = timeit.default_timer()\n",
        "#bubbleSort(arr, N)\n",
        "#stop = timeit.default_timer()\n",
        "#execution_time8 = stop - start\n",
        "#start1 = timeit.default_timer()\n",
        "#shell_sort(arr, N)\n",
        "#stop1 = timeit.default_timer()\n",
        "#execution_time9 = stop1 - start1\n",
        "\n",
        "xb = [10, 100, 1000, 10000]\n",
        "yb = [execution_time, execution_time2, execution_time4, execution_time6]\n",
        "\n",
        "xs = [10, 100, 1000, 10000]\n",
        "ys = [execution_time1, execution_time3, execution_time5, execution_time7]\n",
        "\n",
        "df = pd.DataFrame(list(zip(yb, ys)), index =['10', '100', '1000', '10000'], columns =['Bubble Sort', 'Shell Sort'])\n",
        "print(df)\n",
        "\n",
        "plt.plot(xb, yb, label=\"Bubble Sort\")\n",
        "plt.plot(xs, ys, label=\"Shell Sort\")\n",
        "plt.xlabel('n')\n",
        "plt.ylabel('waktu(detik)')\n",
        "plt.title('Perbandingan runtime sorting')\n",
        "plt.legend()\n",
        "plt.show()"
      ]
    }
  ]
}